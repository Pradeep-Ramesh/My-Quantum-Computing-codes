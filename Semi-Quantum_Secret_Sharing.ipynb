{
 "cells": [
  {
   "cell_type": "markdown",
   "metadata": {},
   "source": [
    "# Quantum Secret sharing with classical bob"
   ]
  },
  {
   "cell_type": "code",
   "execution_count": 15,
   "metadata": {},
   "outputs": [],
   "source": [
    "import numpy as np\n",
    "\n",
    "\n",
    "import matplotlib.pyplot as plt\n",
    "from qiskit import quantum_info as qi\n",
    "from qiskit import QuantumCircuit\n",
    "from qiskit.quantum_info import Statevector, Operator, SparsePauliOp\n",
    "from qiskit.primitives import StatevectorSampler, PrimitiveJob,StatevectorEstimator\n",
    "from qiskit.circuit.library import TwoLocal,EfficientSU2\n",
    "from qiskit.transpiler.preset_passmanagers import generate_preset_pass_manager\n",
    "from qiskit.visualization import plot_histogram\n",
    "\n",
    "from qiskit_aer import AerSimulator\n",
    "from qiskit import QuantumCircuit,transpile\n",
    "from qiskit import quantum_info\n",
    "from qiskit_aer import AerSimulator #Importing the aersimulator in qiskit to sumulate our circuit"
   ]
  },
  {
   "cell_type": "markdown",
   "metadata": {},
   "source": [
    "Initial state for the QSS protocol"
   ]
  },
  {
   "cell_type": "code",
   "execution_count": 16,
   "metadata": {},
   "outputs": [
    {
     "data": {
      "image/png": "[encoded data removed]",
      "text/plain": [
       "<Figure size 203.683x284.278 with 1 Axes>"
      ]
     },
     "execution_count": 16,
     "metadata": {},
     "output_type": "execute_result"
    }
   ],
   "source": [
    "circuits=[] #list of circuits\n",
    "n=20\n",
    "for i in range (n):\n",
    "    qc=QuantumCircuit(2,4)\n",
    "    qc.h([0,1])\n",
    "    circuits.append(qc)\n",
    "\n",
    "circuits[2].draw(\"mpl\")"
   ]
  },
  {
   "cell_type": "markdown",
   "metadata": {},
   "source": [
    "Random choice for bob and charlie to measure or reflect his/her qubits"
   ]
  },
  {
   "cell_type": "code",
   "execution_count": 17,
   "metadata": {},
   "outputs": [
    {
     "name": "stdout",
     "output_type": "stream",
     "text": [
      "['reflect', 'measure', 'measure', 'measure', 'reflect', 'reflect', 'measure', 'measure', 'measure', 'measure', 'reflect', 'reflect', 'measure', 'reflect', 'reflect', 'measure', 'measure', 'measure', 'measure', 'measure']\n"
     ]
    }
   ],
   "source": [
    "#Bob and charlie are going to measure or reflect random qubits among the 20 qubits , let us use  random function of pyhton to decide action of charlie and bob\n",
    "import random\n",
    "\n",
    "mylist = [\"measure\",\"reflect\"]\n",
    "\n",
    "bob_choices=random.choices(mylist, weights = [ 1, 1], k = 20)\n",
    "charlie_choices=random.choices(mylist, weights = [ 1, 1], k = 20)\n",
    "print(bob_choices)"
   ]
  },
  {
   "cell_type": "code",
   "execution_count": 18,
   "metadata": {},
   "outputs": [],
   "source": [
    "n=0\n",
    "for i in bob_choices:\n",
    "    if(i==\"measure\"):\n",
    "       circuits[n].measure(0,0)\n",
    "    n=n+1\n"
   ]
  },
  {
   "cell_type": "code",
   "execution_count": 19,
   "metadata": {},
   "outputs": [],
   "source": [
    "n=0\n",
    "for i in charlie_choices:\n",
    "    if(i==\"measure\"):\n",
    "       circuits[n].measure(1,1)\n",
    "    n=n+1"
   ]
  },
  {
   "cell_type": "markdown",
   "metadata": {},
   "source": [
    "bob and charlie reveals their choices to alice"
   ]
  },
  {
   "cell_type": "markdown",
   "metadata": {},
   "source": [
    "After receiving the qubits back from bob and charlie , alice has 4 choices he can do with the received qubits. \n",
    "\n",
    "1. Measure both the qubits in Z-basis.\n",
    "2. Measure bob in z-basis and charlie in X basis.\n",
    "3. Measure charlie in the z-basis and bob in x-basis.\n",
    "4. measure both in the x-basis.\n"
   ]
  },
  {
   "cell_type": "markdown",
   "metadata": {},
   "source": [
    "Secret key Generation and eve detection by Alice "
   ]
  },
  {
   "cell_type": "code",
   "execution_count": 20,
   "metadata": {},
   "outputs": [
    {
     "name": "stdout",
     "output_type": "stream",
     "text": [
      "[3, 6, 7, 8, 9, 16, 19]\n"
     ]
    }
   ],
   "source": [
    "key_q=[]\n",
    "for i in range(len(bob_choices)):\n",
    "    if(bob_choices[i]==\"measure\" and charlie_choices[i]==\"measure\"):\n",
    "       key_q.append(i)\n",
    "print(key_q)       "
   ]
  },
  {
   "cell_type": "code",
   "execution_count": 21,
   "metadata": {},
   "outputs": [
    {
     "data": {
      "image/png": "[encoded data removed]",
      "text/plain": [
       "<Figure size 538.128x284.278 with 1 Axes>"
      ]
     },
     "execution_count": 21,
     "metadata": {},
     "output_type": "execute_result"
    }
   ],
   "source": [
    "#For the list above alice will measure both the qubits in Z-basis\n",
    "for i in key_q:\n",
    "    circuits[i].measure(0,2)\n",
    "    circuits[i].measure(1,3)\n",
    "    \n",
    "\n",
    "circuits[i].draw(\"mpl\")   "
   ]
  },
  {
   "cell_type": "code",
   "execution_count": 22,
   "metadata": {},
   "outputs": [
    {
     "name": "stdout",
     "output_type": "stream",
     "text": [
      "{'0101': 243, '1010': 274, '0000': 244, '1111': 263}\n",
      "{'0101': 253, '0000': 282, '1010': 248, '1111': 241}\n",
      "{'1010': 247, '0101': 265, '0000': 258, '1111': 254}\n",
      "{'0000': 232, '1111': 273, '0101': 273, '1010': 246}\n",
      "{'0000': 240, '1010': 262, '0101': 237, '1111': 285}\n",
      "{'0101': 278, '1111': 238, '1010': 244, '0000': 264}\n",
      "{'1010': 247, '0101': 288, '1111': 254, '0000': 235}\n",
      "Randomly choosing a result out of all possible results: \n",
      "\n",
      "['0101', '0101', '1010', '0000', '0000', '0101', '1010']\n"
     ]
    }
   ],
   "source": [
    "n=0\n",
    "count_list=[]\n",
    "simulator_aer=AerSimulator()\n",
    "for i in key_q:\n",
    "        qc_aer=transpile(circuits[i],backend=simulator_aer) #transpiling the circuit based on the backend we choose\n",
    "        result=simulator_aer.run(qc_aer,shots=1024).result()#runnung our circuit using the simulator\n",
    "\n",
    "        counts=result.get_counts()#getting counts of our measurement results\n",
    "        print(counts)\n",
    "        l=list(counts)\n",
    "        count_list.append((l[0]))\n",
    "print(\"Randomly choosing a result out of all possible results: \\n\")\n",
    "print(count_list)"
   ]
  },
  {
   "cell_type": "markdown",
   "metadata": {},
   "source": [
    "key generation by Alice by using XOR operation between his measurement results"
   ]
  },
  {
   "cell_type": "code",
   "execution_count": 23,
   "metadata": {},
   "outputs": [
    {
     "name": "stdout",
     "output_type": "stream",
     "text": [
      "THE FINAL KEY GENERATED BY ALICE WHICH CAN BE FOUND ONLY IF BOB AND CHARLIE COLLABORATE: [1, 1, 1, 0, 0, 1, 1]\n"
     ]
    }
   ],
   "source": [
    "final_key=[]\n",
    "for i in count_list:\n",
    "    a=int(i[2])\n",
    "    b=int(i[3])\n",
    "    xor = a ^ b #XOR operation\n",
    "    final_key.append(xor)\n",
    "\n",
    "print(\"THE FINAL KEY GENERATED BY ALICE WHICH CAN BE FOUND ONLY IF BOB AND CHARLIE COLLABORATE:\",final_key)    "
   ]
  },
  {
   "cell_type": "markdown",
   "metadata": {},
   "source": [
    "# Eve interception or bob/charlie tries to cheat"
   ]
  },
  {
   "cell_type": "markdown",
   "metadata": {},
   "source": [
    "Let us say eve will try to get information about charlie's qubit by measuring the qubit when it travels from charlie to alice.Charlie could have done two things to the qubit\n",
    "either he could have measured or he could have reflected which eve does not know.\n",
    "1. If charlie had measured the eve's measurement in Z-basis would not affect so he might go unnoticed\n",
    "2. If charlie had chosed reflected the state of charlie's qubit is |+> state and  if alice chooses to measure it in X-basis and if he gets a |-> state then he can detect the presence of eve (with 50% chance)\n",
    " "
   ]
  },
  {
   "cell_type": "code",
   "execution_count": 24,
   "metadata": {},
   "outputs": [
    {
     "name": "stdout",
     "output_type": "stream",
     "text": [
      "Qubits bob chose to reflect and charlie chose to measure: []\n"
     ]
    }
   ],
   "source": [
    "bob_reflect_charlie_meas_q=[]\n",
    "for i in range (len(bob_choices)):\n",
    "    if(bob_choices[i]==\"reflect\" and charlie_choices[i]==\"measure\"):\n",
    "        bob_reflect_charlie_meas_q.append(i)\n",
    "print(\"Qubits bob chose to reflect and charlie chose to measure:\",bob_reflect_charlie_meas_q)        "
   ]
  },
  {
   "cell_type": "code",
   "execution_count": 25,
   "metadata": {},
   "outputs": [
    {
     "ename": "IndexError",
     "evalue": "list index out of range",
     "output_type": "error",
     "traceback": [
      "\u001b[1;31m---------------------------------------------------------------------------\u001b[0m",
      "\u001b[1;31mIndexError\u001b[0m                                Traceback (most recent call last)",
      "Cell \u001b[1;32mIn[25], line 2\u001b[0m\n\u001b[0;32m      1\u001b[0m \u001b[38;5;66;03m#Suppose EVE randomly chooses 1 qubit of the above qubits to attack and get information\u001b[39;00m\n\u001b[1;32m----> 2\u001b[0m eve_attack_choices\u001b[38;5;241m=\u001b[39m\u001b[43mrandom\u001b[49m\u001b[38;5;241;43m.\u001b[39;49m\u001b[43mchoices\u001b[49m\u001b[43m(\u001b[49m\u001b[43mbob_reflect_charlie_meas_q\u001b[49m\u001b[43m,\u001b[49m\u001b[43m  \u001b[49m\u001b[43mk\u001b[49m\u001b[43m \u001b[49m\u001b[38;5;241;43m=\u001b[39;49m\u001b[43m \u001b[49m\u001b[38;5;241;43m1\u001b[39;49m\u001b[43m)\u001b[49m\n\u001b[0;32m      3\u001b[0m \u001b[38;5;28mprint\u001b[39m(eve_attack_choices)\n",
      "File \u001b[1;32mc:\\Users\\prade\\miniconda3\\envs\\cwq\\Lib\\random.py:467\u001b[0m, in \u001b[0;36mRandom.choices\u001b[1;34m(self, population, weights, cum_weights, k)\u001b[0m\n\u001b[0;32m    465\u001b[0m     floor \u001b[38;5;241m=\u001b[39m _floor\n\u001b[0;32m    466\u001b[0m     n \u001b[38;5;241m+\u001b[39m\u001b[38;5;241m=\u001b[39m \u001b[38;5;241m0.0\u001b[39m    \u001b[38;5;66;03m# convert to float for a small speed improvement\u001b[39;00m\n\u001b[1;32m--> 467\u001b[0m     \u001b[38;5;28;01mreturn\u001b[39;00m [\u001b[43mpopulation\u001b[49m\u001b[43m[\u001b[49m\u001b[43mfloor\u001b[49m\u001b[43m(\u001b[49m\u001b[43mrandom\u001b[49m\u001b[43m(\u001b[49m\u001b[43m)\u001b[49m\u001b[43m \u001b[49m\u001b[38;5;241;43m*\u001b[39;49m\u001b[43m \u001b[49m\u001b[43mn\u001b[49m\u001b[43m)\u001b[49m\u001b[43m]\u001b[49m \u001b[38;5;28;01mfor\u001b[39;00m i \u001b[38;5;129;01min\u001b[39;00m _repeat(\u001b[38;5;28;01mNone\u001b[39;00m, k)]\n\u001b[0;32m    468\u001b[0m \u001b[38;5;28;01mtry\u001b[39;00m:\n\u001b[0;32m    469\u001b[0m     cum_weights \u001b[38;5;241m=\u001b[39m \u001b[38;5;28mlist\u001b[39m(_accumulate(weights))\n",
      "\u001b[1;31mIndexError\u001b[0m: list index out of range"
     ]
    }
   ],
   "source": [
    "#Suppose EVE randomly chooses 1 qubit of the above qubits to attack and get information\n",
    "eve_attack_choices=random.choices(bob_reflect_charlie_meas_q,  k = 1)\n",
    "print(eve_attack_choices)"
   ]
  },
  {
   "cell_type": "code",
   "execution_count": null,
   "metadata": {},
   "outputs": [],
   "source": [
    "for i in eve_attack_choices:\n",
    "    circuits[i].measure(0,0)"
   ]
  },
  {
   "cell_type": "code",
   "execution_count": null,
   "metadata": {},
   "outputs": [
    {
     "data": {
      "image/png": "[encoded data removed]",
      "text/plain": [
       "<Figure size 538.128x284.278 with 1 Axes>"
      ]
     },
     "execution_count": 13,
     "metadata": {},
     "output_type": "execute_result"
    }
   ],
   "source": [
    "#Now alice will measure these circuits in X-basis and if she gets a |-> state she can detect eve\n",
    "for i in eve_attack_choices:\n",
    "    circuits[i].h(0)\n",
    "    circuits[i].measure(0,2)\n",
    "    circuits[i].measure(1,3)\n",
    "circuits[i].draw(\"mpl\")\n",
    "    "
   ]
  },
  {
   "cell_type": "code",
   "execution_count": null,
   "metadata": {},
   "outputs": [
    {
     "name": "stdout",
     "output_type": "stream",
     "text": [
      "{'0001': 121, '1010': 151, '0000': 127, '0100': 141, '1111': 123, '1110': 116, '0101': 136, '1011': 109}\n"
     ]
    }
   ],
   "source": [
    "\n",
    "simulator_aer=AerSimulator()\n",
    "for i in eve_attack_choices:\n",
    "        qc_aer=transpile(circuits[i],backend=simulator_aer) #transpiling the circuit based on the backend we choose\n",
    "        result=simulator_aer.run(qc_aer,shots=1024).result()#runnung our circuit using the simulator\n",
    "\n",
    "        counts=result.get_counts()#getting counts of our measurement results\n",
    "        print(counts)\n",
    "        l=list(counts)\n",
    "       \n",
    "\n"
   ]
  },
  {
   "cell_type": "markdown",
   "metadata": {},
   "source": [
    "As one can see if the 3rd qubit is measured 1 that means a |-> state is measured half the times,which implies that Eve can be detected half of the time and the same simulation can be done in other cases of attack as well.\n"
   ]
  },
  {
   "cell_type": "markdown",
   "metadata": {},
   "source": []
  }
 ],
 "metadata": {
  "kernelspec": {
   "display_name": "cwq",
   "language": "python",
   "name": "python3"
  },
  "language_info": {
   "codemirror_mode": {
    "name": "ipython",
    "version": 3
   },
   "file_extension": ".py",
   "mimetype": "text/x-python",
   "name": "python",
   "nbconvert_exporter": "python",
   "pygments_lexer": "ipython3",
   "version": "3.12.3"
  }
 },
 "nbformat": 4,
 "nbformat_minor": 2
}
