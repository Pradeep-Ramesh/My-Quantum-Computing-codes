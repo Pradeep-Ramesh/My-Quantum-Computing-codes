{
 "cells": [
  {
   "cell_type": "markdown",
   "metadata": {},
   "source": [
    "# The SQD protocol based on single photons without requiring the measurement capability of classical party"
   ]
  },
  {
   "cell_type": "code",
   "execution_count": 83,
   "metadata": {},
   "outputs": [],
   "source": [
    "import numpy as np\n",
    "import random\n",
    "\n",
    "import matplotlib.pyplot as plt\n",
    "from qiskit import quantum_info as qi\n",
    "from qiskit import QuantumCircuit\n",
    "from qiskit.quantum_info import Statevector, Operator, SparsePauliOp\n",
    "from qiskit.primitives import StatevectorSampler, PrimitiveJob,StatevectorEstimator\n",
    "from qiskit.circuit.library import TwoLocal,EfficientSU2\n",
    "from qiskit.transpiler.preset_passmanagers import generate_preset_pass_manager\n",
    "from qiskit.visualization import plot_histogram\n",
    "\n",
    "from qiskit_aer import AerSimulator\n",
    "from qiskit import QuantumCircuit,transpile\n",
    "from qiskit import quantum_info\n",
    "from qiskit_aer import AerSimulator "
   ]
  },
  {
   "cell_type": "markdown",
   "metadata": {},
   "source": [
    "# Step 1: Quantum Alice prepares n single photons, each of which is randomly in one of the four states |0>, |1>, |+>, |-> and transmits them to bob"
   ]
  },
  {
   "cell_type": "code",
   "execution_count": 84,
   "metadata": {},
   "outputs": [
    {
     "name": "stdout",
     "output_type": "stream",
     "text": [
      "['XH', 'I', 'X', 'X', 'H', 'X', 'I', 'H', 'XH', 'I']\n"
     ]
    },
    {
     "data": {
      "image/png": "[encoded data removed]",
      "text/plain": [
       "<Figure size 143.748x434.778 with 1 Axes>"
      ]
     },
     "execution_count": 84,
     "metadata": {},
     "output_type": "execute_result"
    }
   ],
   "source": [
    "n=10\n",
    "alice_choice=[\"I\", \"X\", \"H\", \"XH\"]\n",
    "choice_list=[]\n",
    "qc=QuantumCircuit(n)\n",
    "for i in range(0,n):\n",
    "         choice=random.choices(alice_choice, k = 1)\n",
    "         choice_list.extend(choice)\n",
    "         if(choice[0]==\"I\"):\n",
    "                 None\n",
    "         elif(choice[0]==\"X\"):\n",
    "                 qc.x(i)\n",
    "         elif(choice[0]==\"H\"):\n",
    "                 qc.h(i)\n",
    "         else:\n",
    "                 qc.x(i)\n",
    "                 qc.h(i)                        \n",
    "print(choice_list)\n",
    "qc.draw(\"mpl\",scale=0.5)"
   ]
  },
  {
   "cell_type": "markdown",
   "metadata": {},
   "source": [
    "# Step-2:Bob preprares the following no-of photons\n",
    "\n",
    "1. 2n message carrying photons -  For encoding his own secret messages, Bob prepares 2n single photons carrying messages in Z basis: if his secret \n",
    "classical bit is 0, he will prepare two adjacent single photons carrying messages in the same states; and if his secret classical bit is \n",
    "1, he will prepare two adjacent single photons carrying messages in the opposite states\n",
    "\n",
    "2. 2n sample photons - decoy qubits used for randomization \n",
    "\n",
    "He combines both of 1 and 2 to create a string called \"STR-1\"\n",
    "\n",
    "3. M (M>N) single photons for security and combines with n photons received from Alice.From this \"STR-2\" is formed. From \"STR-2\" random 2n qubits is selected randomly by bob and we name them as \"STR-3\" "
   ]
  },
  {
   "cell_type": "markdown",
   "metadata": {},
   "source": [
    "Let us create a circuit for creating STR-1 as mentioned above "
   ]
  },
  {
   "cell_type": "code",
   "execution_count": 85,
   "metadata": {},
   "outputs": [
    {
     "name": "stdout",
     "output_type": "stream",
     "text": [
      "Bob secret message for alice which he is going to encode in the 2n message photons according to the encoding scheme :\n",
      "[1, 0, 0, 1, 1, 1, 1, 0, 0, 0]\n",
      "state of decoy photons created randomly:\n",
      "[1, 0, 0, 0, 1, 1, 1, 1, 0, 0, 1, 1, 1, 0, 1, 1, 0, 0, 1, 0]\n"
     ]
    }
   ],
   "source": [
    "\n",
    "#Generating bob's secret message \n",
    "bin=[0,1] \n",
    "bob_msg=[]\n",
    "for i in range(n):\n",
    "    choice=random.choices(bin, k = 1)\n",
    "    bob_msg.append(choice[0])\n",
    "print(\"Bob secret message for alice which he is going to encode in the 2n message photons according to the encoding scheme :\") \n",
    "print(bob_msg)   \n",
    "\n",
    "#creating 2n random single photons used as decoy qubits in Z-basis\n",
    "decoy_msg=[]\n",
    "for i in range(2*n):\n",
    "    choice=random.choices(bin, k = 1)\n",
    "    decoy_msg.append(choice[0])\n",
    "print(\"state of decoy photons created randomly:\") \n",
    "print(decoy_msg)   \n"
   ]
  },
  {
   "cell_type": "code",
   "execution_count": 86,
   "metadata": {},
   "outputs": [
    {
     "name": "stdout",
     "output_type": "stream",
     "text": [
      "Quantum circuit of STR-1\n"
     ]
    },
    {
     "data": {
      "image/png": "[encoded data removed]",
      "text/plain": [
       "<Figure size 111.159x1730.75 with 1 Axes>"
      ]
     },
     "execution_count": 86,
     "metadata": {},
     "output_type": "execute_result"
    }
   ],
   "source": [
    "#Genreating circuit for STR-1\n",
    "qc_str1=QuantumCircuit(4*n,2*n)\n",
    "#message encoding\n",
    "x=0\n",
    "for i in range(0,2*n,2):\n",
    "    if(bob_msg[x]==0):\n",
    "        None\n",
    "    else:\n",
    "        qc_str1.x(i+1)  \n",
    "    x=x+1     \n",
    "\n",
    "\n",
    "#decoy qubits \n",
    "x=0\n",
    "for i in range(2*n,4*n,1):\n",
    "    if(decoy_msg[x]==0):\n",
    "        None\n",
    "    else:\n",
    "        qc_str1.x(i)  \n",
    "    x=x+1     \n",
    "\n",
    "print(\"Quantum circuit of STR-1\")\n",
    "qc_str1.draw(\"mpl\",scale=0.5)     "
   ]
  },
  {
   "cell_type": "markdown",
   "metadata": {},
   "source": [
    "Let us create STR-2 as mentioned "
   ]
  },
  {
   "cell_type": "code",
   "execution_count": 87,
   "metadata": {},
   "outputs": [
    {
     "name": "stdout",
     "output_type": "stream",
     "text": [
      "state of M photons created randomly:\n",
      "[0, 0, 1, 0, 0, 0, 0, 0, 0, 0, 0, 0]\n",
      "State of n photons sent by alice to bob:\n",
      "['XH', 'I', 'X', 'X', 'H', 'X', 'I', 'H', 'XH', 'I']\n",
      "\n",
      "STR-2:  [0, 0, 1, 0, 0, 0, 0, 0, 0, 0, 0, 0, 'XH', 'I', 'X', 'X', 'H', 'X', 'I', 'H', 'XH', 'I']\n"
     ]
    }
   ],
   "source": [
    "M=n+2 #Creating sequence of length  M (M>n) by bob \n",
    "M_msg=[]\n",
    "for i in range(M):\n",
    "    choice=random.choices(bin, k = 1)\n",
    "    M_msg.append(choice[0])\n",
    "print(\"state of M photons created randomly:\") \n",
    "print(M_msg)\n",
    "\n",
    "#n photons already created by alice and sent to bob\n",
    "print(\"State of n photons sent by alice to bob:\")\n",
    "print(choice_list)\n",
    "\n",
    "#Final STR-2 string which the comination of M and n photons sent by bob\n",
    "print()\n",
    "str_2=[]\n",
    "str_2.extend(M_msg)\n",
    "str_2.extend(choice_list)\n",
    "print(\"STR-2: \",str_2)"
   ]
  },
  {
   "cell_type": "markdown",
   "metadata": {},
   "source": [
    "STR-3 is created by selecting 2n random bits from the str-2"
   ]
  },
  {
   "cell_type": "code",
   "execution_count": 88,
   "metadata": {},
   "outputs": [
    {
     "name": "stdout",
     "output_type": "stream",
     "text": [
      "index of chosen qubits [18, 0, 13, 2, 12, 7, 4, 10, 19, 4, 6, 16, 1, 7, 2, 3, 9, 19, 4, 9]\n",
      "STR-3 : ['I', 0, 'I', 1, 'XH', 0, 0, 0, 'H', 0, 0, 'H', 0, 0, 1, 0, 0, 'H', 0, 0]\n"
     ]
    }
   ],
   "source": [
    "str_3=[]\n",
    "l=[]\n",
    "chosen_qubits=[] #to store the index of the chosen qubit to form STR-3 FROM STR-2\n",
    "for i in range(0,20):\n",
    "    l.append(i)\n",
    "for i in l:\n",
    "  c=random.choices(l, k = 1)\n",
    "  chosen_qubits.append(c[0])\n",
    "  str_3.append(str_2[c[0]])\n",
    "print(\"index of chosen qubits\",chosen_qubits)\n",
    "print(\"STR-3 :\",str_3)\n",
    "\n",
    "    "
   ]
  },
  {
   "cell_type": "markdown",
   "metadata": {},
   "source": [
    "Lets create the quantum circuit of STR-3"
   ]
  },
  {
   "cell_type": "code",
   "execution_count": 89,
   "metadata": {},
   "outputs": [
    {
     "data": {
      "image/png": "[encoded data removed]",
      "text/plain": [
       "<Figure size 122.291x715.711 with 1 Axes>"
      ]
     },
     "execution_count": 89,
     "metadata": {},
     "output_type": "execute_result"
    }
   ],
   "source": [
    "x=0\n",
    "qc_str3=QuantumCircuit(2*n,2*n)\n",
    "for i in range(2*n):\n",
    "    if(str_3[i]==1 or str_3[i]==\"X\"):\n",
    "        qc_str3.x(i)\n",
    "    elif(str_3[i]==\"H\"):\n",
    "        qc_str3.h(i)    \n",
    "    elif(str_3[i]==\"XH\"):\n",
    "        qc_str3.x(i)\n",
    "        qc_str3.h(i) \n",
    "    else:\n",
    "        None    \n",
    "\n",
    "qc_str3.draw(\"mpl\",scale=0.4)        "
   ]
  },
  {
   "cell_type": "markdown",
   "metadata": {},
   "source": [
    "Now Quantum Circuit of STR-1 and STR-3 are mixed and randomized and  are sent to alice by bob,remember bob has encoded his message in STR-1"
   ]
  },
  {
   "cell_type": "markdown",
   "metadata": {},
   "source": [
    "# STEP-3 \n",
    "Alice measures the received photons of STR-3 randomly in the Z-BASIS or X-Basis"
   ]
  },
  {
   "cell_type": "code",
   "execution_count": 90,
   "metadata": {},
   "outputs": [
    {
     "name": "stdout",
     "output_type": "stream",
     "text": [
      "The basis alice chose to measure ['Z', 'Z', 'Z', 'Z', 'Z', 'Z', 'Z', 'Z', 'X', 'X', 'Z', 'X', 'Z', 'Z', 'X', 'Z', 'Z', 'X', 'X', 'Z']\n"
     ]
    },
    {
     "data": {
      "image/png": "[encoded data removed]",
      "text/plain": [
       "<Figure size 543.218x536.783 with 1 Axes>"
      ]
     },
     "execution_count": 90,
     "metadata": {},
     "output_type": "execute_result"
    }
   ],
   "source": [
    "alice_meas_choice=[]\n",
    "basis_choice=[\"X\",\"Z\"]\n",
    "for i in range(len(str_3)):\n",
    "    choice=random.choices(basis_choice, k = 1)\n",
    "    alice_meas_choice.append(choice[0])\n",
    "    if(choice[0]==\"X\"):\n",
    "        qc_str3.h(i)\n",
    "        qc_str3.measure(i,i) #measuring in X-BASIS\n",
    "    else:\n",
    "        qc_str3.measure(i,i) #measuring in Z-BASIS  \n",
    "print(\"The basis alice chose to measure\",alice_meas_choice)\n",
    "qc_str3.draw(\"mpl\",scale=0.3)  "
   ]
  },
  {
   "cell_type": "code",
   "execution_count": 91,
   "metadata": {},
   "outputs": [
    {
     "name": "stdout",
     "output_type": "stream",
     "text": [
      "{'01000100001000011000': 1}\n",
      "THE MEASUREMENT RESULT: 01000100001000011000\n"
     ]
    }
   ],
   "source": [
    "simulator_aer=AerSimulator()\n",
    "\n",
    "qc_aer=transpile(qc_str3,backend=simulator_aer) #transpiling the circuit based on the backend we choose\n",
    "result=simulator_aer.run(qc_aer,shots=1).result() #runnung our circuit using the simulator\n",
    "\n",
    "counts=result.get_counts()#getting counts of our measurement results\n",
    "print(counts)\n",
    "l=list(counts.keys())\n",
    "c=l[0]\n",
    "print(\"THE MEASUREMENT RESULT:\",c)"
   ]
  },
  {
   "cell_type": "markdown",
   "metadata": {},
   "source": [
    "# STEP-4"
   ]
  },
  {
   "cell_type": "markdown",
   "metadata": {},
   "source": [
    "Bob publishes the positions of the photons which belong to STR-3.Remember STR-3 contains a subset of \n",
    "1. n photons (created by alice)  - lets call it CTRL single photons\n",
    "2. M photons (created by bob) - lets call it SIFT single photons"
   ]
  },
  {
   "cell_type": "code",
   "execution_count": 92,
   "metadata": {},
   "outputs": [
    {
     "name": "stdout",
     "output_type": "stream",
     "text": [
      "CTRL-Qubits \n",
      " [0, 2, 4, 8, 11, 17]\n",
      "SIFT-Qubits \n",
      " [1, 3, 5, 6, 7, 9, 10, 12, 13, 14, 15, 16, 18, 19]\n"
     ]
    }
   ],
   "source": [
    "CTRL_q=[]\n",
    "SIFT_q=[]\n",
    "for i in range(len(str_3)):\n",
    "    if(str_3[i]==0 or str_3[i]==1):\n",
    "       SIFT_q.append(i)\n",
    "    else:\n",
    "       CTRL_q.append(i)   \n",
    "print(\"CTRL-Qubits \\n\",CTRL_q)\n",
    "  \n",
    "print(\"SIFT-Qubits \\n\",SIFT_q)"
   ]
  },
  {
   "cell_type": "markdown",
   "metadata": {},
   "source": [
    "# STEP-5\n",
    "# SECURITY CHECK BY ALICE ON THE CTRL QUBITS"
   ]
  },
  {
   "cell_type": "markdown",
   "metadata": {},
   "source": [
    "The qubits  in STR-3 (the CTRL qubits) were prepared by him , so if the basis matches the result must be same, he can compare and see of there are any errors and if found that error rate is beyond certain limit ,communication is terminated"
   ]
  },
  {
   "cell_type": "code",
   "execution_count": 93,
   "metadata": {},
   "outputs": [
    {
     "name": "stdout",
     "output_type": "stream",
     "text": [
      "Basis macthed in the following qubit: 0\n",
      "No EVE detected\n",
      "Basis macthed in the following qubit: 2\n",
      "No EVE detected\n",
      "Basis matched in the following qubit: 8\n",
      "No EVE detected\n",
      "Basis matched in the following qubit: 11\n",
      "No EVE detected\n",
      "Basis matched in the following qubit: 17\n",
      "No EVE detected\n"
     ]
    }
   ],
   "source": [
    "count=0\n",
    "for i in CTRL_q:\n",
    "    if((str_3[i]==\"I\" or str_3[i]==\"X\")  and alice_meas_choice[i]==\"Z\"):\n",
    "        count=count+1\n",
    "        print(\"Basis macthed in the following qubit:\",i)\n",
    "        if(str_3[i]==\"I\" and c[len(c)-1-i]=='0'):\n",
    "            \n",
    "            print(\"No EVE detected\")\n",
    "         \n",
    "          \n",
    "        elif(str_3[i]==\"X\" and c[len(c)-1-i]=='1'):\n",
    "            \n",
    "            print(\"No EVE detected\")\n",
    "        \n",
    "        else:\n",
    "            print(str_3[i],c[len(c)-1-i])\n",
    "            \n",
    "            print(\"EVE detected\") \n",
    "\n",
    "    elif((str_3[i]==\"H\" or str_3[i]==\"XH\")  and alice_meas_choice[i]==\"X\"):\n",
    "        count=count+1\n",
    "        print(\"Basis matched in the following qubit:\",i)\n",
    "        if(str_3[i]==\"H\" and c[len(c)-1-i]=='0'):\n",
    "            \n",
    "            print(\"No EVE detected\")\n",
    "         \n",
    "          \n",
    "        elif(str_3[i]==\"XH\" and c[len(c)-1-i]=='1'):\n",
    "            \n",
    "            print(\"No EVE detected\")\n",
    "        \n",
    "        else:\n",
    "            print(str_3[i],c[len(c)-1-i])\n",
    "            \n",
    "            print(\"EVE detected---------------------------------------\")         \n",
    "            \n",
    "              \n",
    "    \n",
    "if(count==0):\n",
    "  print(\"Basis never matched (would not happen for large no of qubits)\")        \n"
   ]
  },
  {
   "cell_type": "markdown",
   "metadata": {},
   "source": [
    "# STEP-6\n",
    "# SECURITY CHECK BY BOB ON THE SIFT QUBITS MEASURED IN Z-BASIS BY ALICE "
   ]
  },
  {
   "cell_type": "markdown",
   "metadata": {},
   "source": [
    "Since the SIFT qubits were prepared by bob when alice chose to measure them in the Z-basis and announce the results bob can check whether the measurement result matches or not"
   ]
  },
  {
   "cell_type": "code",
   "execution_count": 94,
   "metadata": {},
   "outputs": [
    {
     "name": "stdout",
     "output_type": "stream",
     "text": [
      "index of chosen qubits [18, 0, 13, 2, 12, 7, 4, 10, 19, 4, 6, 16, 1, 7, 2, 3, 9, 19, 4, 9]\n",
      "STR-3 : ['I', 0, 'I', 1, 'XH', 0, 0, 0, 'H', 0, 0, 'H', 0, 0, 1, 0, 0, 'H', 0, 0]\n"
     ]
    }
   ],
   "source": [
    "#FOR REFERENCE AND CHECK PLEASE IGNORE\n",
    "print(\"index of chosen qubits\",chosen_qubits)\n",
    "print(\"STR-3 :\",str_3)"
   ]
  },
  {
   "cell_type": "code",
   "execution_count": 95,
   "metadata": {},
   "outputs": [
    {
     "name": "stdout",
     "output_type": "stream",
     "text": [
      "check was done in the following qubit 1\n",
      "index of the qubit in the original M-photon message 0\n",
      "NO EVE DETECTED \n",
      "\n",
      "check was done in the following qubit 3\n",
      "index of the qubit in the original M-photon message 2\n",
      "NO EVE DETECTED \n",
      "\n",
      "check was done in the following qubit 5\n",
      "index of the qubit in the original M-photon message 7\n",
      "NO EVE DETECTED \n",
      "\n",
      "check was done in the following qubit 6\n",
      "index of the qubit in the original M-photon message 4\n",
      "NO EVE DETECTED \n",
      "\n",
      "check was done in the following qubit 7\n",
      "index of the qubit in the original M-photon message 10\n",
      "NO EVE DETECTED \n",
      "\n",
      "check was done in the following qubit 10\n",
      "index of the qubit in the original M-photon message 6\n",
      "NO EVE DETECTED \n",
      "\n",
      "check was done in the following qubit 12\n",
      "index of the qubit in the original M-photon message 1\n",
      "NO EVE DETECTED \n",
      "\n",
      "check was done in the following qubit 13\n",
      "index of the qubit in the original M-photon message 7\n",
      "NO EVE DETECTED \n",
      "\n",
      "check was done in the following qubit 15\n",
      "index of the qubit in the original M-photon message 3\n",
      "NO EVE DETECTED \n",
      "\n",
      "check was done in the following qubit 16\n",
      "index of the qubit in the original M-photon message 9\n",
      "NO EVE DETECTED \n",
      "\n",
      "check was done in the following qubit 19\n",
      "index of the qubit in the original M-photon message 9\n",
      "NO EVE DETECTED \n",
      "\n"
     ]
    }
   ],
   "source": [
    "for i in range(len(str_3)):\n",
    "        if(alice_meas_choice[i]=='Z'):  #checking only qubits measured by alice in Z-basis \n",
    "           if(str_3[i]==0 or str_3[i]==1): #checking only qubits beloging to M-msg in STR-3 (SIFT Qubits) not the n-photons which was checked in security check of alice\n",
    "        \n",
    "            index=chosen_qubits[i]\n",
    "            print(\"check was done in the following qubit\",i)\n",
    "            print(\"index of the qubit in the original M-photon message\",index)\n",
    "            \n",
    "            k=int(c[len(c)-1-i])\n",
    "            if(k==(M_msg[index])): #comparing the initial message M created by bob with measurement result\n",
    "                print('NO EVE DETECTED \\n')\n",
    "            else:\n",
    "                print(\"EVE DETECTED----------------------------------- \\n\")    \n",
    "        "
   ]
  },
  {
   "cell_type": "markdown",
   "metadata": {},
   "source": [
    "# STEP-7 KEY EXCHANGE"
   ]
  },
  {
   "cell_type": "markdown",
   "metadata": {},
   "source": [
    "Alice received both STR-1 and STR-3 from bob, STR-3 was used to security check above , STR-1 contains the message encoded in 2n-message-photons as well as 2n-sample-photons used as decoy\n",
    "\n",
    "1. Alice discards the 2n sample photons (decoy) \n",
    "2. He measures the 2n message photons in the original order\n",
    "\n",
    "According to the encoding rule of bob if two adjacent photons are same it is 0 and it is different it is 1.Lets measure the 2n-message photons and retrieve the message"
   ]
  },
  {
   "cell_type": "code",
   "execution_count": 96,
   "metadata": {},
   "outputs": [],
   "source": [
    "#Recreating the circuit of str_1 as alice discards 2n qubits\n",
    "qc_str1=QuantumCircuit(2*n,2*n)\n",
    "#message encoding\n",
    "x=0\n",
    "for i in range(0,2*n,2):\n",
    "    if(bob_msg[x]==0):\n",
    "        None\n",
    "    else:\n",
    "        qc_str1.x(i+1)  \n",
    "    x=x+1    \n",
    "for i in range(2*n):\n",
    "    qc_str1.measure(i,i)"
   ]
  },
  {
   "cell_type": "code",
   "execution_count": 97,
   "metadata": {},
   "outputs": [
    {
     "name": "stdout",
     "output_type": "stream",
     "text": [
      "{'00000010101010000010': 1}\n",
      "THE MEASUREMENT RESULT: 00000010101010000010\n"
     ]
    }
   ],
   "source": [
    "from qiskit_ibm_runtime.fake_provider import FakeSherbrooke\n",
    "\n",
    "simulator_aer=AerSimulator()\n",
    "\n",
    "qc_aer=transpile(qc_str1,backend=simulator_aer) #transpiling the circuit based on the backend we choose\n",
    "result=simulator_aer.run(qc_aer,shots=1).result() #runnung our circuit using the simulator\n",
    "\n",
    "counts=result.get_counts()#getting counts of our measurement results\n",
    "print(counts)\n",
    "l=list(counts.keys())\n",
    "c=l[0]\n",
    "print(\"THE MEASUREMENT RESULT:\",c)"
   ]
  },
  {
   "cell_type": "code",
   "execution_count": 98,
   "metadata": {},
   "outputs": [
    {
     "name": "stdout",
     "output_type": "stream",
     "text": [
      "The decoded key by Alice [1, 0, 0, 1, 1, 1, 1, 0, 0, 0]\n",
      "The original msg of bob gebereated before [1, 0, 0, 1, 1, 1, 1, 0, 0, 0]\n",
      "\n",
      "WE HAVE SUCCESSFULLY DECODED THE MESSAGE BOB SENT TO ALICE as the keys are matching\n"
     ]
    }
   ],
   "source": [
    "decoded_key=[]\n",
    "for i in range(len(c)-1,-1,-2):\n",
    "    if(c[i]==c[i-1]):\n",
    "        decoded_key.append(0)\n",
    "    else:\n",
    "         decoded_key.append(1) \n",
    "\n",
    "print(\"The decoded key by Alice\",decoded_key)\n",
    "print(\"The original msg of bob gebereated before\",bob_msg)\n",
    "if(decoded_key==bob_msg):\n",
    "    print(\"\\nWE HAVE SUCCESSFULLY DECODED THE MESSAGE BOB SENT TO ALICE as the keys are matching\")"
   ]
  },
  {
   "cell_type": "markdown",
   "metadata": {},
   "source": [
    "Alice implements the classical one-time pad encryption processes and publishes the \n",
    "ciphertexts to Bob according to the following rules: if the second photon of each two adjacent single photons carrying messages \n",
    "she measured is in the state of 0 and her secret classical bit is 0, she will publish 0 to Bob; and if the second photon of each two \n",
    "adjacent single photons carrying messages she measured is in the state of 0 and her secret classical bit is 1, she will publish 1 to \n",
    "Bob; and if the second photon of each two adjacent single photons carrying messages she measured is in the state of1 and her \n",
    "secret classical bit is 0, she will publish 1 to Bob; and if the second photon of each two adjacent single photons carrying messages \n",
    "she measured is in the state of1 and her secret classical bit is 1, she will publish 0 to Bob. According to the ciphertexts \n",
    "announced by Alice and the classical bits represented by all of the second photons from each two adjacent single photons carrying \n",
    "messages prepared by himself, Bob can directly decode out Alice’s secret messages. "
   ]
  },
  {
   "cell_type": "code",
   "execution_count": null,
   "metadata": {},
   "outputs": [],
   "source": []
  }
 ],
 "metadata": {
  "kernelspec": {
   "display_name": "cwq",
   "language": "python",
   "name": "python3"
  },
  "language_info": {
   "codemirror_mode": {
    "name": "ipython",
    "version": 3
   },
   "file_extension": ".py",
   "mimetype": "text/x-python",
   "name": "python",
   "nbconvert_exporter": "python",
   "pygments_lexer": "ipython3",
   "version": "3.12.3"
  }
 },
 "nbformat": 4,
 "nbformat_minor": 2
}
